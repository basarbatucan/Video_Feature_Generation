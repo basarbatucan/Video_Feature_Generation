{
 "cells": [
  {
   "cell_type": "code",
   "execution_count": 1,
   "id": "8901593d",
   "metadata": {},
   "outputs": [],
   "source": [
    "#Load library and configuration parameters\n",
    "#Denoising autoencoder\n",
    "import torch\n",
    "import torch.nn as nn\n",
    "import torch.utils as utils\n",
    "from torch.utils.data import Dataset, DataLoader\n",
    "from torch.autograd import Variable\n",
    "import torchvision.datasets as dset\n",
    "import torchvision.transforms as transforms\n",
    "import numpy as np\n",
    "import matplotlib.pyplot as plt\n",
    "import pandas as pd\n",
    "from sklearn.decomposition import PCA\n",
    "import matplotlib.pyplot as plt\n",
    "import seaborn as sns\n",
    "from torch.utils.tensorboard import SummaryWriter\n",
    "from tqdm import tqdm\n",
    "import scipy.io as sio\n",
    "\n",
    "import os\n",
    "import cv2"
   ]
  },
  {
   "cell_type": "code",
   "execution_count": 2,
   "id": "d2baa131",
   "metadata": {},
   "outputs": [],
   "source": [
    "# Classes\n",
    "\n",
    "# Target dataset\n",
    "class CustomDataset(Dataset):\n",
    "\n",
    "    def __init__(self, set_selection=0):\n",
    "        \n",
    "        target_path = '../30-Video_Feature_Generation/'\n",
    "        data_meta = pd.read_csv(target_path +'output/UCSDped2/meta_data.csv')      \n",
    "        self.data = []\n",
    "        \n",
    "        if set_selection == 0:\n",
    "            # get only train\n",
    "            n_start = 0\n",
    "            n_end = data_meta[data_meta['train_valid_test']=='valid'].index[0]\n",
    "        elif set_selection == 1:\n",
    "            # get only validation\n",
    "            n_start = data_meta[data_meta['train_valid_test']=='valid'].index[0]\n",
    "            n_end = data_meta[data_meta['train_valid_test']=='test'].index[0]\n",
    "        else:\n",
    "            # get everything, including test set\n",
    "            n_start = 0\n",
    "            n_end = len(data_meta)\n",
    "            \n",
    "        # read all data \n",
    "        for i in range(n_start, n_end):\n",
    "            img_path = target_path + data_meta.loc[i, 'scaled_im_path'][2:]\n",
    "            class_name = data_meta.loc[i, 'name']\n",
    "            self.data.append([img_path, class_name])\n",
    "            \n",
    "        # read class types\n",
    "        tmp = data_meta[['name','class']].drop_duplicates().sort_values(by='class').reset_index(drop=True)\n",
    "        class_map_ = dict()\n",
    "        for i in range(0, len(tmp)):\n",
    "            name_ = tmp.loc[i, 'name']\n",
    "            class_ = int(tmp.loc[i, 'class'])\n",
    "            class_map_[name_] = class_\n",
    "            \n",
    "        self.class_map = class_map_\n",
    "        self.img_dim = (64, 64)\n",
    "        \n",
    "    def __len__(self):\n",
    "        \n",
    "        return len(self.data)\n",
    "    \n",
    "    def __getitem__(self, idx):\n",
    "        img_path, class_name = self.data[idx]\n",
    "        # read\n",
    "        img = cv2.imread(img_path, 0)\n",
    "        # resize\n",
    "        img = cv2.resize(img, self.img_dim)\n",
    "        # normalize\n",
    "        img = img/255.0\n",
    "        # cast to float\n",
    "        img = img.astype('float32')\n",
    "        # expan dim\n",
    "        img = np.expand_dims(img, axis=0)\n",
    "        \n",
    "        class_id = self.class_map[class_name]\n",
    "        img_tensor = torch.from_numpy(img)\n",
    "        #img_tensor = img_tensor.permute(2, 0, 1)\n",
    "        class_id = torch.tensor([class_id])\n",
    "        \n",
    "        return img_tensor, class_id\n",
    "    \n",
    "# Encoder settings\n",
    "class Encoder(nn.Module):\n",
    "    \n",
    "    def __init__(self):\n",
    "        \n",
    "        super(Encoder,self).__init__()\n",
    "        \n",
    "        self.conv1=nn.Sequential(\n",
    "            nn.Conv2d(1, 64, 3, 1, 1),\n",
    "            nn.BatchNorm2d(64),\n",
    "            nn.LeakyReLU(0.2)\n",
    "        )\n",
    "        \n",
    "        self.maxpool1 = nn.MaxPool2d(2, stride=2, return_indices=True)\n",
    "        \n",
    "        self.conv2 = nn.Sequential(\n",
    "            torch.nn.Conv2d(64, 50, 3, 1, 1),  \n",
    "            torch.nn.BatchNorm2d(50),\n",
    "            torch.nn.LeakyReLU(0.2))\n",
    "        \n",
    "        self.maxpool2 = nn.MaxPool2d(2, stride=2, return_indices=True)\n",
    "        \n",
    "        self.conv3 = nn.Sequential(\n",
    "            torch.nn.Conv2d(50, 36, 3, 1, 1),\n",
    "            torch.nn.BatchNorm2d(36),\n",
    "            torch.nn.LeakyReLU(0.2))\n",
    "        \n",
    "        self.maxpool3 = nn.MaxPool2d(2, stride=2, return_indices=True)\n",
    "        \n",
    "        self.conv4 = nn.Sequential(\n",
    "            torch.nn.Conv2d(36,22, 3, 1, 1),  \n",
    "            torch.nn.BatchNorm2d(22),\n",
    "            torch.nn.LeakyReLU(0.2))\n",
    "        \n",
    "        self.maxpool4 = nn.MaxPool2d(2, stride=2, return_indices=True)\n",
    "        \n",
    "        self.conv5 = nn.Sequential(\n",
    "            torch.nn.Conv2d(22, 8, 3, 1, 1),\n",
    "            torch.nn.BatchNorm2d(8),\n",
    "            torch.nn.Sigmoid())\n",
    "        \n",
    "        self.maxpool5 = nn.MaxPool2d(2, stride=2, return_indices=True)\n",
    "        \n",
    "    def forward(self, x_in):\n",
    "        \n",
    "        x = self.conv1(x_in)\n",
    "        x , indices1 = self.maxpool1(x)\n",
    "        x = self.conv2(x)\n",
    "        x , indices2 = self.maxpool2(x)\n",
    "        x = self.conv3(x)\n",
    "        x , indices3 = self.maxpool3(x)\n",
    "        x = self.conv4(x)\n",
    "        x , indices4 = self.maxpool4(x)\n",
    "        x = self.conv5(x)\n",
    "        feature , indices5 = self.maxpool5(x)\n",
    "        \n",
    "        indices = [indices1, indices2, indices3, indices4, indices5]\n",
    "        \n",
    "        return feature, indices\n",
    "    \n",
    "# Decoder settings\n",
    "class Decoder(nn.Module):\n",
    "    \n",
    "    def __init__(self):\n",
    "        \n",
    "        super(Decoder,self).__init__()\n",
    "        \n",
    "        self.convtrans1 = nn.Sequential(nn.ConvTranspose2d(8, 22, 3, 1, 1), )\n",
    "        \n",
    "        self.maxunpool1= nn.MaxUnpool2d(2, stride=2)\n",
    "        \n",
    "        self.convtrans2 = nn.Sequential(nn.ConvTranspose2d(22, 36, 3, 1, 1), )\n",
    "        \n",
    "        self.maxunpool2 = nn.MaxUnpool2d(2,stride=2)\n",
    "        \n",
    "        self.convtrans3 = nn.Sequential(nn.ConvTranspose2d(36, 50, 3, 1, 1), )\n",
    "        \n",
    "        self.maxunpool3 = nn.MaxUnpool2d(2, stride=2)\n",
    "        \n",
    "        self.convtrans4 = nn.Sequential(nn.ConvTranspose2d(50, 64, 3, 1, 1), )\n",
    "        \n",
    "        self.maxunpool4 = nn.MaxUnpool2d(2,stride=2)\n",
    "        \n",
    "        self.convtrans5 = nn.Sequential(nn.ConvTranspose2d(64, 1, 3, 1, 1), )\n",
    "        \n",
    "        self.maxunpool5 = nn.MaxUnpool2d(2,stride=2)\n",
    "        \n",
    "    def forward(self, x_in, indices):\n",
    "        \n",
    "        x = self.maxunpool1(x_in, indices[4])\n",
    "        x = self.convtrans1(x)\n",
    "        x = self.maxunpool2(x, indices[3])\n",
    "        x = self.convtrans2(x)\n",
    "        x = self.maxunpool3(x, indices[2])\n",
    "        x = self.convtrans3(x)\n",
    "        x = self.maxunpool4(x, indices[1])\n",
    "        x = self.convtrans4(x)\n",
    "        x = self.maxunpool5(x, indices[0])\n",
    "        x = self.convtrans5(x)\n",
    "        \n",
    "        return x"
   ]
  },
  {
   "cell_type": "code",
   "execution_count": 3,
   "id": "9de581fb",
   "metadata": {},
   "outputs": [],
   "source": [
    "#Configuration parameter\n",
    "\n",
    "n_epoch = 20                # Number of epochs\n",
    "batch_size = 256            # Size of the batch\n",
    "learning_rate = 0.01        # learning rate for ADAM optimizer\n",
    "noise_std = 0.01            # This noise level is given in \"https://arxiv.org/pdf/2012.01468.pdf\"\n",
    "target_data_name = 'UCSDped2'"
   ]
  },
  {
   "cell_type": "code",
   "execution_count": 4,
   "id": "710c8d88",
   "metadata": {},
   "outputs": [],
   "source": [
    "# Read Meta data \n",
    "data_meta = pd.read_csv('./output/' + target_data_name + '/meta_data.csv')\n",
    "\n",
    "# Read Yolo Objects and create torch datasets\n",
    "data_train = CustomDataset(set_selection=0)\n",
    "train_loader = DataLoader(data_train, batch_size = batch_size, shuffle=True)\n",
    "\n",
    "data_valid = CustomDataset(set_selection=1)\n",
    "valid_loader = DataLoader(data_valid, batch_size = batch_size, shuffle=True)\n",
    "\n",
    "data_all = CustomDataset(set_selection=2)\n",
    "all_loader = DataLoader(data_all, batch_size = batch_size, shuffle=True)"
   ]
  },
  {
   "cell_type": "code",
   "execution_count": 5,
   "id": "ef8df1e8",
   "metadata": {},
   "outputs": [
    {
     "name": "stdout",
     "output_type": "stream",
     "text": [
      "Epoch: 0\n"
     ]
    },
    {
     "name": "stderr",
     "output_type": "stream",
     "text": [
      "100%|██████████████████████████████████████████████████████████████████████████████████| 98/98 [00:17<00:00,  5.56it/s]\n"
     ]
    },
    {
     "name": "stdout",
     "output_type": "stream",
     "text": [
      "Running validation...\n",
      "Epoch: 1\n"
     ]
    },
    {
     "name": "stderr",
     "output_type": "stream",
     "text": [
      "100%|██████████████████████████████████████████████████████████████████████████████████| 98/98 [00:15<00:00,  6.48it/s]\n"
     ]
    },
    {
     "name": "stdout",
     "output_type": "stream",
     "text": [
      "Running validation...\n",
      "Epoch: 2\n"
     ]
    },
    {
     "name": "stderr",
     "output_type": "stream",
     "text": [
      "100%|██████████████████████████████████████████████████████████████████████████████████| 98/98 [00:15<00:00,  6.28it/s]\n"
     ]
    },
    {
     "name": "stdout",
     "output_type": "stream",
     "text": [
      "Running validation...\n",
      "Epoch: 3\n"
     ]
    },
    {
     "name": "stderr",
     "output_type": "stream",
     "text": [
      "100%|██████████████████████████████████████████████████████████████████████████████████| 98/98 [00:15<00:00,  6.23it/s]\n"
     ]
    },
    {
     "name": "stdout",
     "output_type": "stream",
     "text": [
      "Running validation...\n",
      "Epoch: 4\n"
     ]
    },
    {
     "name": "stderr",
     "output_type": "stream",
     "text": [
      "100%|██████████████████████████████████████████████████████████████████████████████████| 98/98 [00:15<00:00,  6.33it/s]\n"
     ]
    },
    {
     "name": "stdout",
     "output_type": "stream",
     "text": [
      "Running validation...\n",
      "Epoch: 5\n"
     ]
    },
    {
     "name": "stderr",
     "output_type": "stream",
     "text": [
      "100%|██████████████████████████████████████████████████████████████████████████████████| 98/98 [00:15<00:00,  6.46it/s]\n"
     ]
    },
    {
     "name": "stdout",
     "output_type": "stream",
     "text": [
      "Running validation...\n",
      "Epoch: 6\n"
     ]
    },
    {
     "name": "stderr",
     "output_type": "stream",
     "text": [
      "100%|██████████████████████████████████████████████████████████████████████████████████| 98/98 [00:15<00:00,  6.18it/s]\n"
     ]
    },
    {
     "name": "stdout",
     "output_type": "stream",
     "text": [
      "Running validation...\n",
      "Epoch: 7\n"
     ]
    },
    {
     "name": "stderr",
     "output_type": "stream",
     "text": [
      "100%|██████████████████████████████████████████████████████████████████████████████████| 98/98 [00:15<00:00,  6.32it/s]\n"
     ]
    },
    {
     "name": "stdout",
     "output_type": "stream",
     "text": [
      "Running validation...\n",
      "Epoch: 8\n"
     ]
    },
    {
     "name": "stderr",
     "output_type": "stream",
     "text": [
      "100%|██████████████████████████████████████████████████████████████████████████████████| 98/98 [00:15<00:00,  6.34it/s]\n"
     ]
    },
    {
     "name": "stdout",
     "output_type": "stream",
     "text": [
      "Running validation...\n",
      "Epoch: 9\n"
     ]
    },
    {
     "name": "stderr",
     "output_type": "stream",
     "text": [
      "100%|██████████████████████████████████████████████████████████████████████████████████| 98/98 [00:15<00:00,  6.36it/s]\n"
     ]
    },
    {
     "name": "stdout",
     "output_type": "stream",
     "text": [
      "Running validation...\n",
      "Epoch: 10\n"
     ]
    },
    {
     "name": "stderr",
     "output_type": "stream",
     "text": [
      "100%|██████████████████████████████████████████████████████████████████████████████████| 98/98 [00:15<00:00,  6.43it/s]\n"
     ]
    },
    {
     "name": "stdout",
     "output_type": "stream",
     "text": [
      "Running validation...\n",
      "Epoch: 11\n"
     ]
    },
    {
     "name": "stderr",
     "output_type": "stream",
     "text": [
      "100%|██████████████████████████████████████████████████████████████████████████████████| 98/98 [00:15<00:00,  6.30it/s]\n"
     ]
    },
    {
     "name": "stdout",
     "output_type": "stream",
     "text": [
      "Running validation...\n",
      "Epoch: 12\n"
     ]
    },
    {
     "name": "stderr",
     "output_type": "stream",
     "text": [
      "100%|██████████████████████████████████████████████████████████████████████████████████| 98/98 [00:15<00:00,  6.39it/s]\n"
     ]
    },
    {
     "name": "stdout",
     "output_type": "stream",
     "text": [
      "Running validation...\n",
      "Epoch: 13\n"
     ]
    },
    {
     "name": "stderr",
     "output_type": "stream",
     "text": [
      "100%|██████████████████████████████████████████████████████████████████████████████████| 98/98 [00:15<00:00,  6.32it/s]\n"
     ]
    },
    {
     "name": "stdout",
     "output_type": "stream",
     "text": [
      "Running validation...\n",
      "Epoch: 14\n"
     ]
    },
    {
     "name": "stderr",
     "output_type": "stream",
     "text": [
      "100%|██████████████████████████████████████████████████████████████████████████████████| 98/98 [00:15<00:00,  6.43it/s]\n"
     ]
    },
    {
     "name": "stdout",
     "output_type": "stream",
     "text": [
      "Running validation...\n",
      "Epoch: 15\n"
     ]
    },
    {
     "name": "stderr",
     "output_type": "stream",
     "text": [
      "100%|██████████████████████████████████████████████████████████████████████████████████| 98/98 [00:15<00:00,  6.45it/s]\n"
     ]
    },
    {
     "name": "stdout",
     "output_type": "stream",
     "text": [
      "Running validation...\n",
      "Epoch: 16\n"
     ]
    },
    {
     "name": "stderr",
     "output_type": "stream",
     "text": [
      "100%|██████████████████████████████████████████████████████████████████████████████████| 98/98 [00:15<00:00,  6.42it/s]\n"
     ]
    },
    {
     "name": "stdout",
     "output_type": "stream",
     "text": [
      "Running validation...\n",
      "Epoch: 17\n"
     ]
    },
    {
     "name": "stderr",
     "output_type": "stream",
     "text": [
      "100%|██████████████████████████████████████████████████████████████████████████████████| 98/98 [00:15<00:00,  6.38it/s]\n"
     ]
    },
    {
     "name": "stdout",
     "output_type": "stream",
     "text": [
      "Running validation...\n",
      "Epoch: 18\n"
     ]
    },
    {
     "name": "stderr",
     "output_type": "stream",
     "text": [
      "100%|██████████████████████████████████████████████████████████████████████████████████| 98/98 [00:15<00:00,  6.34it/s]\n"
     ]
    },
    {
     "name": "stdout",
     "output_type": "stream",
     "text": [
      "Running validation...\n",
      "Epoch: 19\n"
     ]
    },
    {
     "name": "stderr",
     "output_type": "stream",
     "text": [
      "100%|██████████████████████████████████████████████████████████████████████████████████| 98/98 [00:15<00:00,  6.29it/s]\n"
     ]
    },
    {
     "name": "stdout",
     "output_type": "stream",
     "text": [
      "Running validation...\n"
     ]
    }
   ],
   "source": [
    "# Create the Autoencoder\n",
    "encoder=Encoder().cuda()\n",
    "decoder=Decoder().cuda()\n",
    "\n",
    "# Loss functions and optimizers\n",
    "parameters=list(encoder.parameters())+list(decoder.parameters())\n",
    "loss_func=nn.MSELoss()\n",
    "optimizer=torch.optim.Adam(parameters, lr=learning_rate)\n",
    "\n",
    "# Autoencoder training\n",
    "\n",
    "# Create performance save arrays\n",
    "train_loss_acc = []\n",
    "valid_loss_acc = []\n",
    "\n",
    "for I in range(n_epoch):\n",
    "    \n",
    "    # run epoch\n",
    "    print('Epoch: {}'.format(I))\n",
    "    train_loss = 0.0\n",
    "    for image,label in tqdm(train_loader):\n",
    "        \n",
    "        # create noise\n",
    "        noise=torch.tensor(np.random.normal(loc=0, scale=noise_std, size=image.shape)).type(torch.FloatTensor)\n",
    "        \n",
    "        # create noise image\n",
    "        image_n=torch.add(image, noise)\n",
    "        \n",
    "        # move images to GPU\n",
    "        image=Variable(image).cuda()\n",
    "        image_n=Variable(image_n).cuda()\n",
    "        \n",
    "        # clear gradients\n",
    "        optimizer.zero_grad()\n",
    "        \n",
    "        # forward pass from DAE (encoder + decoder)\n",
    "        latent_features, indices = encoder(image_n)\n",
    "        output = decoder(latent_features, indices)\n",
    "        \n",
    "        # get loss\n",
    "        loss = loss_func(output,image)\n",
    "        \n",
    "        # calculate gradients based on loss\n",
    "        loss.backward()\n",
    "        \n",
    "        # Update Weights\n",
    "        optimizer.step()\n",
    "        \n",
    "        # save training loss\n",
    "        train_loss = train_loss + loss.item()\n",
    "    \n",
    "    # average train loss\n",
    "    avg_train_loss = train_loss/image.shape[0]\n",
    "    train_loss_acc.append(avg_train_loss)\n",
    "    \n",
    "    # calculate validation loss after epoch is completed\n",
    "    print('Running validation...')\n",
    "    valid_loss = 0.0\n",
    "    for image_v, labels_v in valid_loader:\n",
    "        \n",
    "        # move images to GPU\n",
    "        image_v=Variable(image_v).cuda()\n",
    "        \n",
    "        # forward pass from DAE (encoder + decoder)\n",
    "        latent_features_v, indices_v = encoder(image_v)\n",
    "        output_v = decoder(latent_features_v, indices_v)\n",
    "        \n",
    "        # get loss\n",
    "        loss_v = loss_func(output_v, image_v)\n",
    "        \n",
    "        # save valid loss\n",
    "        valid_loss = valid_loss + loss_v.item()\n",
    "    \n",
    "    # average valid loss\n",
    "    avg_valid_loss = valid_loss/image_v.shape[0]\n",
    "    valid_loss_acc.append(avg_valid_loss)"
   ]
  },
  {
   "cell_type": "code",
   "execution_count": 6,
   "id": "8a9af1e2-1242-43f5-a04f-94a93c2f1200",
   "metadata": {},
   "outputs": [
    {
     "data": {
      "image/png": "[encoded data removed]",
      "text/plain": [
       "<Figure size 720x576 with 1 Axes>"
      ]
     },
     "metadata": {
      "needs_background": "light"
     },
     "output_type": "display_data"
    }
   ],
   "source": [
    "# create performance watch\n",
    "x_epoch = list(range(1,n_epoch+1))\n",
    "fig = plt.figure(figsize=(10,8))\n",
    "ax = fig.add_subplot(111)\n",
    "ax.plot(x_epoch, train_loss_acc, '--*b', label='train loss')\n",
    "ax.plot(x_epoch, valid_loss_acc, '--*r', label='valid loss')\n",
    "plt.yscale(\"log\")\n",
    "plt.xlabel('Epochs')\n",
    "plt.ylabel('Loss')\n",
    "plt.legend()\n",
    "plt.grid()"
   ]
  },
  {
   "cell_type": "code",
   "execution_count": 7,
   "id": "30d4aa2b",
   "metadata": {},
   "outputs": [
    {
     "data": {
      "image/png": "[encoded data removed]",
      "text/plain": [
       "<Figure size 1080x1080 with 3 Axes>"
      ]
     },
     "metadata": {
      "needs_background": "light"
     },
     "output_type": "display_data"
    }
   ],
   "source": [
    "# Test couple of examples\n",
    "test_image_index = 1\n",
    "img=image[test_image_index].cpu()\n",
    "input_img=image_n[test_image_index].cpu()\n",
    "output_img=output[test_image_index].cpu()\n",
    "\n",
    "origin=img.data.numpy()\n",
    "inp=input_img.data.numpy()\n",
    "out=output_img.data.numpy()\n",
    "\n",
    "f, axs = plt.subplots(1,3,figsize=(15,15))\n",
    "axs[0].imshow(origin[0],cmap='gray')\n",
    "axs[0].set_title('Original Image')\n",
    "\n",
    "axs[1].imshow(inp[0],cmap='gray')\n",
    "axs[1].set_title('Original Image + Gaussian Noise')\n",
    "\n",
    "axs[2].imshow(out[0],cmap='gray')\n",
    "axs[2].set_title('Reconstructed Noisy Image')\n",
    "plt.show()"
   ]
  },
  {
   "cell_type": "code",
   "execution_count": 9,
   "id": "9ce20f25-5df3-4c1b-a52b-a2cb854db1ad",
   "metadata": {},
   "outputs": [
    {
     "data": {
      "image/png": "[encoded data removed]",
      "text/plain": [
       "<Figure size 1080x1080 with 3 Axes>"
      ]
     },
     "metadata": {
      "needs_background": "light"
     },
     "output_type": "display_data"
    }
   ],
   "source": [
    "# Test couple of examples\n",
    "test_image_index = 80\n",
    "img=image[test_image_index].cpu()\n",
    "input_img=image_n[test_image_index].cpu()\n",
    "output_img=output[test_image_index].cpu()\n",
    "\n",
    "origin=img.data.numpy()\n",
    "inp=input_img.data.numpy()\n",
    "out=output_img.data.numpy()\n",
    "\n",
    "f, axs = plt.subplots(1,3,figsize=(15,15))\n",
    "axs[0].imshow(origin[0],cmap='gray')\n",
    "axs[0].set_title('Original Image')\n",
    "\n",
    "axs[1].imshow(inp[0],cmap='gray')\n",
    "axs[1].set_title('Original Image + Gaussian Noise')\n",
    "\n",
    "axs[2].imshow(out[0],cmap='gray')\n",
    "axs[2].set_title('Reconstructed Noisy Image')\n",
    "plt.show()"
   ]
  },
  {
   "cell_type": "code",
   "execution_count": null,
   "id": "ecbde86c-77af-4839-8246-127fb8f4bb9a",
   "metadata": {},
   "outputs": [],
   "source": [
    "# project all available data to latent space\n",
    "\n",
    "n=len(data_all)\n",
    "latents = np.zeros((n, 33)) #32 latent features + PSNR\n",
    "\n",
    "for i in tqdm(range(n)):\n",
    "    \n",
    "    # get the sample\n",
    "    sample, _ = data_all[i]\n",
    "    sample = sample.cpu()\n",
    "    tmp = np.expand_dims(sample, axis=0)   \n",
    "    sample = torch.from_numpy(tmp)\n",
    "    sample = Variable(sample).cuda()\n",
    "    \n",
    "    # get latent features\n",
    "    latent_features, indices = encoder(sample)\n",
    "    \n",
    "    # get decoded image\n",
    "    output = decoder(latent_features, indices)\n",
    "    \n",
    "    # save features\n",
    "    z1 = latent_features.resize(1,32).cpu().detach().numpy()[0]\n",
    "    latents[i,0:32] = z1\n",
    "    \n",
    "    mse = torch.mean(torch.pow(torch.sub(sample, output), 2)).cpu().detach().numpy()\n",
    "    max_x = sample.max().cpu().detach().numpy()\n",
    "    z2 = 10*np.log10(max_x/mse) # PSNR\n",
    "    latents[i,32] = z2\n",
    "    \n",
    "# combine meta data and latent features\n",
    "latent_pd = pd.DataFrame(latents, columns=['dae_latent_feature_{:02d}'.format(x) for x in range(33)])\n",
    "latent_pd.rename(columns={'dae_latent_feature_32': 'spnr'}, inplace=True)\n",
    "video_df = pd.concat([data_meta,latent_pd], axis=1)"
   ]
  },
  {
   "cell_type": "code",
   "execution_count": 9,
   "id": "38840c0b",
   "metadata": {},
   "outputs": [],
   "source": [
    "# save output as mat to be used in matlab\n",
    "out_df = {name: col.values for name, col in ped2_df.items()}\n",
    "sio.savemat('./output/' + target_data_name + '/' + target_data_name + '_dae.mat', out_df)"
   ]
  }
 ],
 "metadata": {
  "kernelspec": {
   "display_name": "Python 3 (ipykernel)",
   "language": "python",
   "name": "python3"
  },
  "language_info": {
   "codemirror_mode": {
    "name": "ipython",
    "version": 3
   },
   "file_extension": ".py",
   "mimetype": "text/x-python",
   "name": "python",
   "nbconvert_exporter": "python",
   "pygments_lexer": "ipython3",
   "version": "3.9.6"
  }
 },
 "nbformat": 4,
 "nbformat_minor": 5
}
