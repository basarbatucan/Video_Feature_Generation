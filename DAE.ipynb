{
 "cells": [
  {
   "cell_type": "code",
   "execution_count": 1,
   "id": "8901593d",
   "metadata": {},
   "outputs": [],
   "source": [
    "#Load library and configuration parameters\n",
    "#Denoising autoencoder\n",
    "import torch\n",
    "import torch.nn as nn\n",
    "import torch.utils as utils\n",
    "from torch.utils.data import Dataset, DataLoader\n",
    "from torch.autograd import Variable\n",
    "import torchvision.datasets as dset\n",
    "import torchvision.transforms as transforms\n",
    "import numpy as np\n",
    "import matplotlib.pyplot as plt\n",
    "import pandas as pd\n",
    "from sklearn.decomposition import PCA\n",
    "import matplotlib.pyplot as plt\n",
    "import seaborn as sns\n",
    "from torch.utils.tensorboard import SummaryWriter\n",
    "from tqdm import tqdm\n",
    "import scipy.io as sio\n",
    "\n",
    "import os\n",
    "import cv2"
   ]
  },
  {
   "cell_type": "code",
   "execution_count": 2,
   "id": "d2baa131",
   "metadata": {},
   "outputs": [],
   "source": [
    "# Classes\n",
    "\n",
    "# Target dataset\n",
    "class CustomDataset(Dataset):\n",
    "\n",
    "    def __init__(self, data_name, set_selection=0):\n",
    "        \n",
    "        target_path = '../30-Video_Feature_Generation/'\n",
    "        data_meta = pd.read_csv(target_path +'output/' + data_name + '/meta_data.csv')      \n",
    "        self.data = []\n",
    "        \n",
    "        if set_selection == 0:\n",
    "            # get only train\n",
    "            n_start = 0\n",
    "            n_end = data_meta[data_meta['train_valid_test']=='valid'].index[0]\n",
    "        elif set_selection == 1:\n",
    "            # get only validation\n",
    "            n_start = data_meta[data_meta['train_valid_test']=='valid'].index[0]\n",
    "            n_end = data_meta[data_meta['train_valid_test']=='test'].index[0]\n",
    "        else:\n",
    "            # get everything, including test set\n",
    "            n_start = 0\n",
    "            n_end = len(data_meta)\n",
    "            \n",
    "        # read all data \n",
    "        for i in range(n_start, n_end):\n",
    "            img_path = target_path + data_meta.loc[i, 'scaled_im_path'][2:]\n",
    "            class_name = data_meta.loc[i, 'name']\n",
    "            self.data.append([img_path, class_name])\n",
    "            \n",
    "        # read class types\n",
    "        tmp = data_meta[['name','class']].drop_duplicates().sort_values(by='class').reset_index(drop=True)\n",
    "        class_map_ = dict()\n",
    "        for i in range(0, len(tmp)):\n",
    "            name_ = tmp.loc[i, 'name']\n",
    "            class_ = int(tmp.loc[i, 'class'])\n",
    "            class_map_[name_] = class_\n",
    "            \n",
    "        self.class_map = class_map_\n",
    "        self.img_dim = (64, 64)\n",
    "        \n",
    "    def __len__(self):\n",
    "        \n",
    "        return len(self.data)\n",
    "    \n",
    "    def __getitem__(self, idx):\n",
    "        \n",
    "        img_path, class_name = self.data[idx]\n",
    "        # read\n",
    "        img = cv2.imread(img_path, 0)\n",
    "        # resize\n",
    "        img = cv2.resize(img, self.img_dim)\n",
    "        # normalize\n",
    "        img = img/255.0\n",
    "        # cast to float\n",
    "        img = img.astype('float32')\n",
    "        # expan dim\n",
    "        img = np.expand_dims(img, axis=0)\n",
    "        \n",
    "        class_id = self.class_map[class_name]\n",
    "        img_tensor = torch.from_numpy(img)\n",
    "        #img_tensor = img_tensor.permute(2, 0, 1)\n",
    "        class_id = torch.tensor([class_id])\n",
    "        \n",
    "        return img_tensor, class_id\n",
    "    \n",
    "# Encoder settings\n",
    "class Encoder(nn.Module):\n",
    "    \n",
    "    def __init__(self):\n",
    "        \n",
    "        super(Encoder,self).__init__()\n",
    "        \n",
    "        self.conv1=nn.Sequential(\n",
    "            nn.Conv2d(1, 64, 3, 1, 1),\n",
    "            nn.BatchNorm2d(64),\n",
    "            nn.LeakyReLU(0.2)\n",
    "        )\n",
    "        \n",
    "        self.maxpool1 = nn.MaxPool2d(2, stride=2, return_indices=True)\n",
    "        \n",
    "        self.conv2 = nn.Sequential(\n",
    "            torch.nn.Conv2d(64, 50, 3, 1, 1),  \n",
    "            torch.nn.BatchNorm2d(50),\n",
    "            torch.nn.LeakyReLU(0.2))\n",
    "        \n",
    "        self.maxpool2 = nn.MaxPool2d(2, stride=2, return_indices=True)\n",
    "        \n",
    "        self.conv3 = nn.Sequential(\n",
    "            torch.nn.Conv2d(50, 36, 3, 1, 1),\n",
    "            torch.nn.BatchNorm2d(36),\n",
    "            torch.nn.LeakyReLU(0.2))\n",
    "        \n",
    "        self.maxpool3 = nn.MaxPool2d(2, stride=2, return_indices=True)\n",
    "        \n",
    "        self.conv4 = nn.Sequential(\n",
    "            torch.nn.Conv2d(36,22, 3, 1, 1),  \n",
    "            torch.nn.BatchNorm2d(22),\n",
    "            torch.nn.LeakyReLU(0.2))\n",
    "        \n",
    "        self.maxpool4 = nn.MaxPool2d(2, stride=2, return_indices=True)\n",
    "        \n",
    "        self.conv5 = nn.Sequential(\n",
    "            torch.nn.Conv2d(22, 8, 3, 1, 1),\n",
    "            torch.nn.BatchNorm2d(8),\n",
    "            torch.nn.Sigmoid())\n",
    "        \n",
    "        self.maxpool5 = nn.MaxPool2d(2, stride=2, return_indices=True)\n",
    "        \n",
    "    def forward(self, x_in):\n",
    "        \n",
    "        x = self.conv1(x_in)\n",
    "        x , indices1 = self.maxpool1(x)\n",
    "        x = self.conv2(x)\n",
    "        x , indices2 = self.maxpool2(x)\n",
    "        x = self.conv3(x)\n",
    "        x , indices3 = self.maxpool3(x)\n",
    "        x = self.conv4(x)\n",
    "        x , indices4 = self.maxpool4(x)\n",
    "        x = self.conv5(x)\n",
    "        feature , indices5 = self.maxpool5(x)\n",
    "        \n",
    "        indices = [indices1, indices2, indices3, indices4, indices5]\n",
    "        \n",
    "        return feature, indices\n",
    "    \n",
    "# Decoder settings\n",
    "class Decoder(nn.Module):\n",
    "    \n",
    "    def __init__(self):\n",
    "        \n",
    "        super(Decoder,self).__init__()\n",
    "        \n",
    "        self.convtrans1 = nn.Sequential(nn.ConvTranspose2d(8, 22, 3, 1, 1), )\n",
    "        \n",
    "        self.maxunpool1= nn.MaxUnpool2d(2, stride=2)\n",
    "        \n",
    "        self.convtrans2 = nn.Sequential(nn.ConvTranspose2d(22, 36, 3, 1, 1), )\n",
    "        \n",
    "        self.maxunpool2 = nn.MaxUnpool2d(2,stride=2)\n",
    "        \n",
    "        self.convtrans3 = nn.Sequential(nn.ConvTranspose2d(36, 50, 3, 1, 1), )\n",
    "        \n",
    "        self.maxunpool3 = nn.MaxUnpool2d(2, stride=2)\n",
    "        \n",
    "        self.convtrans4 = nn.Sequential(nn.ConvTranspose2d(50, 64, 3, 1, 1), )\n",
    "        \n",
    "        self.maxunpool4 = nn.MaxUnpool2d(2,stride=2)\n",
    "        \n",
    "        self.convtrans5 = nn.Sequential(nn.ConvTranspose2d(64, 1, 3, 1, 1), )\n",
    "        \n",
    "        self.maxunpool5 = nn.MaxUnpool2d(2,stride=2)\n",
    "        \n",
    "    def forward(self, x_in, indices):\n",
    "        \n",
    "        x = self.maxunpool1(x_in, indices[4])\n",
    "        x = self.convtrans1(x)\n",
    "        x = self.maxunpool2(x, indices[3])\n",
    "        x = self.convtrans2(x)\n",
    "        x = self.maxunpool3(x, indices[2])\n",
    "        x = self.convtrans3(x)\n",
    "        x = self.maxunpool4(x, indices[1])\n",
    "        x = self.convtrans4(x)\n",
    "        x = self.maxunpool5(x, indices[0])\n",
    "        x = self.convtrans5(x)\n",
    "        \n",
    "        return x"
   ]
  },
  {
   "cell_type": "code",
   "execution_count": 3,
   "id": "9de581fb",
   "metadata": {},
   "outputs": [],
   "source": [
    "#Configuration parameter\n",
    "\n",
    "n_epoch = 100                 # Number of epochs\n",
    "batch_size = 500              # Size of the batch\n",
    "learning_rate = 0.01          # learning rate for ADAM optimizer\n",
    "noise_std = 0.01              # This noise level is given in \"https://arxiv.org/pdf/2012.01468.pdf\"\n",
    "\n",
    "target_data_name = 'UCSDped2'\n",
    "#target_data_name = 'UCSDped1'\n",
    "\n",
    "#target_data_name = 'ShangaiTech'\n",
    "#target_data_name = 'SUrveillance'"
   ]
  },
  {
   "cell_type": "code",
   "execution_count": 4,
   "id": "710c8d88",
   "metadata": {},
   "outputs": [],
   "source": [
    "# Read Meta data \n",
    "data_meta = pd.read_csv('./output/' + target_data_name + '/meta_data.csv')\n",
    "\n",
    "# Read Yolo Objects and create torch datasets\n",
    "data_train = CustomDataset(target_data_name, set_selection=0)\n",
    "train_loader = DataLoader(data_train, batch_size = batch_size, shuffle=True)\n",
    "\n",
    "data_valid = CustomDataset(target_data_name, set_selection=1)\n",
    "valid_loader = DataLoader(data_valid, batch_size = batch_size)\n",
    "\n",
    "data_all = CustomDataset(target_data_name, set_selection=2)\n",
    "all_loader = DataLoader(data_all, batch_size = batch_size)"
   ]
  },
  {
   "cell_type": "code",
   "execution_count": 5,
   "id": "ef8df1e8",
   "metadata": {
    "tags": []
   },
   "outputs": [
    {
     "name": "stdout",
     "output_type": "stream",
     "text": [
      "Epoch: 0\n"
     ]
    },
    {
     "name": "stderr",
     "output_type": "stream",
     "text": [
      "100%|██████████████████████████████████████████████████████████████████████████████████| 51/51 [00:16<00:00,  3.16it/s]\n"
     ]
    },
    {
     "name": "stdout",
     "output_type": "stream",
     "text": [
      "Validation avg image loss: 1.7945384746767525e-05\n",
      "Validation avg batch loss: 0.007955787237733603\n",
      "Epoch: 1\n"
     ]
    },
    {
     "name": "stderr",
     "output_type": "stream",
     "text": [
      "100%|██████████████████████████████████████████████████████████████████████████████████| 51/51 [00:13<00:00,  3.72it/s]\n"
     ]
    },
    {
     "name": "stdout",
     "output_type": "stream",
     "text": [
      "Validation avg image loss: 1.3600111784959646e-05\n",
      "Validation avg batch loss: 0.0060293828913321095\n",
      "Epoch: 2\n"
     ]
    },
    {
     "name": "stderr",
     "output_type": "stream",
     "text": [
      "100%|██████████████████████████████████████████████████████████████████████████████████| 51/51 [00:13<00:00,  3.69it/s]\n"
     ]
    },
    {
     "name": "stdout",
     "output_type": "stream",
     "text": [
      "Validation avg image loss: 1.4405089598569207e-05\n",
      "Validation avg batch loss: 0.006386256388699015\n",
      "Epoch: 3\n"
     ]
    },
    {
     "name": "stderr",
     "output_type": "stream",
     "text": [
      "100%|██████████████████████████████████████████████████████████████████████████████████| 51/51 [00:13<00:00,  3.66it/s]\n"
     ]
    },
    {
     "name": "stdout",
     "output_type": "stream",
     "text": [
      "Validation avg image loss: 1.4310954768854872e-05\n",
      "Validation avg batch loss: 0.0063445232808589935\n",
      "Epoch: 4\n"
     ]
    },
    {
     "name": "stderr",
     "output_type": "stream",
     "text": [
      "100%|██████████████████████████████████████████████████████████████████████████████████| 51/51 [00:13<00:00,  3.69it/s]\n"
     ]
    },
    {
     "name": "stdout",
     "output_type": "stream",
     "text": [
      "Validation avg image loss: 2.381414861271256e-05\n",
      "Validation avg batch loss: 0.010557605884969234\n",
      "Epoch: 5\n"
     ]
    },
    {
     "name": "stderr",
     "output_type": "stream",
     "text": [
      "100%|██████████████████████████████████████████████████████████████████████████████████| 51/51 [00:13<00:00,  3.70it/s]\n"
     ]
    },
    {
     "name": "stdout",
     "output_type": "stream",
     "text": [
      "Validation avg image loss: 1.8435060151649597e-05\n",
      "Validation avg batch loss: 0.008172876667231321\n",
      "Epoch: 6\n"
     ]
    },
    {
     "name": "stderr",
     "output_type": "stream",
     "text": [
      "100%|██████████████████████████████████████████████████████████████████████████████████| 51/51 [00:13<00:00,  3.68it/s]\n"
     ]
    },
    {
     "name": "stdout",
     "output_type": "stream",
     "text": [
      "Validation avg image loss: 1.4158379972765321e-05\n",
      "Validation avg batch loss: 0.006276881787925959\n",
      "Epoch: 7\n"
     ]
    },
    {
     "name": "stderr",
     "output_type": "stream",
     "text": [
      "100%|██████████████████████████████████████████████████████████████████████████████████| 51/51 [00:13<00:00,  3.69it/s]\n"
     ]
    },
    {
     "name": "stdout",
     "output_type": "stream",
     "text": [
      "Validation avg image loss: 1.5592536034720733e-05\n",
      "Validation avg batch loss: 0.0069126909753928585\n",
      "Epoch: 8\n"
     ]
    },
    {
     "name": "stderr",
     "output_type": "stream",
     "text": [
      "100%|██████████████████████████████████████████████████████████████████████████████████| 51/51 [00:13<00:00,  3.69it/s]\n"
     ]
    },
    {
     "name": "stdout",
     "output_type": "stream",
     "text": [
      "Validation avg image loss: 1.3778649123483583e-05\n",
      "Validation avg batch loss: 0.0061085344447443886\n",
      "Epoch: 9\n"
     ]
    },
    {
     "name": "stderr",
     "output_type": "stream",
     "text": [
      "100%|██████████████████████████████████████████████████████████████████████████████████| 51/51 [00:13<00:00,  3.71it/s]\n"
     ]
    },
    {
     "name": "stdout",
     "output_type": "stream",
     "text": [
      "Validation avg image loss: 1.0348334593376272e-05\n",
      "Validation avg batch loss: 0.0045877616697301464\n",
      "Epoch: 10\n"
     ]
    },
    {
     "name": "stderr",
     "output_type": "stream",
     "text": [
      "100%|██████████████████████████████████████████████████████████████████████████████████| 51/51 [00:13<00:00,  3.67it/s]\n"
     ]
    },
    {
     "name": "stdout",
     "output_type": "stream",
     "text": [
      "Validation avg image loss: 1.0807968543044159e-05\n",
      "Validation avg batch loss: 0.004791532720749577\n",
      "Epoch: 11\n"
     ]
    },
    {
     "name": "stderr",
     "output_type": "stream",
     "text": [
      "100%|██████████████████████████████████████████████████████████████████████████████████| 51/51 [00:13<00:00,  3.68it/s]\n"
     ]
    },
    {
     "name": "stdout",
     "output_type": "stream",
     "text": [
      "Validation avg image loss: 1.0130041159857484e-05\n",
      "Validation avg batch loss: 0.0044909849142034846\n",
      "Epoch: 12\n"
     ]
    },
    {
     "name": "stderr",
     "output_type": "stream",
     "text": [
      "100%|██████████████████████████████████████████████████████████████████████████████████| 51/51 [00:13<00:00,  3.69it/s]\n"
     ]
    },
    {
     "name": "stdout",
     "output_type": "stream",
     "text": [
      "Validation avg image loss: 1.04275286981934e-05\n",
      "Validation avg batch loss: 0.004622871056199074\n",
      "Epoch: 13\n"
     ]
    },
    {
     "name": "stderr",
     "output_type": "stream",
     "text": [
      "100%|██████████████████████████████████████████████████████████████████████████████████| 51/51 [00:13<00:00,  3.68it/s]\n"
     ]
    },
    {
     "name": "stdout",
     "output_type": "stream",
     "text": [
      "Validation avg image loss: 1.3040985624985139e-05\n",
      "Validation avg batch loss: 0.005781503627076745\n",
      "Epoch: 14\n"
     ]
    },
    {
     "name": "stderr",
     "output_type": "stream",
     "text": [
      "100%|██████████████████████████████████████████████████████████████████████████████████| 51/51 [00:13<00:00,  3.69it/s]\n"
     ]
    },
    {
     "name": "stdout",
     "output_type": "stream",
     "text": [
      "Validation avg image loss: 9.701767222101528e-06\n",
      "Validation avg batch loss: 0.004301116801798344\n",
      "Epoch: 15\n"
     ]
    },
    {
     "name": "stderr",
     "output_type": "stream",
     "text": [
      "100%|██████████████████████████████████████████████████████████████████████████████████| 51/51 [00:13<00:00,  3.66it/s]\n"
     ]
    },
    {
     "name": "stdout",
     "output_type": "stream",
     "text": [
      "Validation avg image loss: 9.200117844892175e-06\n",
      "Validation avg batch loss: 0.004078718911235531\n",
      "Epoch: 16\n"
     ]
    },
    {
     "name": "stderr",
     "output_type": "stream",
     "text": [
      "100%|██████████████████████████████████████████████████████████████████████████████████| 51/51 [00:13<00:00,  3.72it/s]\n"
     ]
    },
    {
     "name": "stdout",
     "output_type": "stream",
     "text": [
      "Validation avg image loss: 1.6264191695622035e-05\n",
      "Validation avg batch loss: 0.007210458318392436\n",
      "Epoch: 17\n"
     ]
    },
    {
     "name": "stderr",
     "output_type": "stream",
     "text": [
      "100%|██████████████████████████████████████████████████████████████████████████████████| 51/51 [00:13<00:00,  3.71it/s]\n"
     ]
    },
    {
     "name": "stdout",
     "output_type": "stream",
     "text": [
      "Validation avg image loss: 1.2255014844686914e-05\n",
      "Validation avg batch loss: 0.005433056581144531\n",
      "Epoch: 18\n"
     ]
    },
    {
     "name": "stderr",
     "output_type": "stream",
     "text": [
      "100%|██████████████████████████████████████████████████████████████████████████████████| 51/51 [00:13<00:00,  3.70it/s]\n"
     ]
    },
    {
     "name": "stdout",
     "output_type": "stream",
     "text": [
      "Validation avg image loss: 1.1074939511604327e-05\n",
      "Validation avg batch loss: 0.004909889850144585\n",
      "Epoch: 19\n"
     ]
    },
    {
     "name": "stderr",
     "output_type": "stream",
     "text": [
      "100%|██████████████████████████████████████████████████████████████████████████████████| 51/51 [00:13<00:00,  3.72it/s]\n"
     ]
    },
    {
     "name": "stdout",
     "output_type": "stream",
     "text": [
      "Validation avg image loss: 1.093150883268817e-05\n",
      "Validation avg batch loss: 0.0048463022491584224\n",
      "Epoch: 20\n"
     ]
    },
    {
     "name": "stderr",
     "output_type": "stream",
     "text": [
      "100%|██████████████████████████████████████████████████████████████████████████████████| 51/51 [00:13<00:00,  3.73it/s]\n"
     ]
    },
    {
     "name": "stdout",
     "output_type": "stream",
     "text": [
      "Validation avg image loss: 1.3671633857477428e-05\n",
      "Validation avg batch loss: 0.006061091010148327\n",
      "Epoch: 21\n"
     ]
    },
    {
     "name": "stderr",
     "output_type": "stream",
     "text": [
      "100%|██████████████████████████████████████████████████████████████████████████████████| 51/51 [00:13<00:00,  3.72it/s]\n"
     ]
    },
    {
     "name": "stdout",
     "output_type": "stream",
     "text": [
      "Validation avg image loss: 1.096182040646112e-05\n",
      "Validation avg batch loss: 0.0048597403801977634\n",
      "Epoch: 22\n"
     ]
    },
    {
     "name": "stderr",
     "output_type": "stream",
     "text": [
      "100%|██████████████████████████████████████████████████████████████████████████████████| 51/51 [00:13<00:00,  3.73it/s]\n"
     ]
    },
    {
     "name": "stdout",
     "output_type": "stream",
     "text": [
      "Validation avg image loss: 1.136369099910546e-05\n",
      "Validation avg batch loss: 0.005037903009603421\n",
      "Epoch: 23\n"
     ]
    },
    {
     "name": "stderr",
     "output_type": "stream",
     "text": [
      "100%|██████████████████████████████████████████████████████████████████████████████████| 51/51 [00:13<00:00,  3.67it/s]\n"
     ]
    },
    {
     "name": "stdout",
     "output_type": "stream",
     "text": [
      "Validation avg image loss: 1.0140533594036462e-05\n",
      "Validation avg batch loss: 0.004495636560022831\n",
      "Epoch: 24\n"
     ]
    },
    {
     "name": "stderr",
     "output_type": "stream",
     "text": [
      "100%|██████████████████████████████████████████████████████████████████████████████████| 51/51 [00:13<00:00,  3.65it/s]\n"
     ]
    },
    {
     "name": "stdout",
     "output_type": "stream",
     "text": [
      "Validation avg image loss: 1.1682680184791858e-05\n",
      "Validation avg batch loss: 0.005179321548591058\n",
      "Epoch: 25\n"
     ]
    },
    {
     "name": "stderr",
     "output_type": "stream",
     "text": [
      "100%|██████████████████████████████████████████████████████████████████████████████████| 51/51 [00:14<00:00,  3.62it/s]\n"
     ]
    },
    {
     "name": "stdout",
     "output_type": "stream",
     "text": [
      "Validation avg image loss: 8.968433148150605e-06\n",
      "Validation avg batch loss: 0.003976005362346768\n",
      "Epoch: 26\n"
     ]
    },
    {
     "name": "stderr",
     "output_type": "stream",
     "text": [
      "100%|██████████████████████████████████████████████████████████████████████████████████| 51/51 [00:13<00:00,  3.65it/s]\n"
     ]
    },
    {
     "name": "stdout",
     "output_type": "stream",
     "text": [
      "Validation avg image loss: 9.233933869973385e-06\n",
      "Validation avg batch loss: 0.0040937106823548675\n",
      "Epoch: 27\n"
     ]
    },
    {
     "name": "stderr",
     "output_type": "stream",
     "text": [
      "100%|██████████████████████████████████████████████████████████████████████████████████| 51/51 [00:13<00:00,  3.71it/s]\n"
     ]
    },
    {
     "name": "stdout",
     "output_type": "stream",
     "text": [
      "Validation avg image loss: 9.165899530473284e-06\n",
      "Validation avg batch loss: 0.004063548791843156\n",
      "Epoch: 28\n"
     ]
    },
    {
     "name": "stderr",
     "output_type": "stream",
     "text": [
      "100%|██████████████████████████████████████████████████████████████████████████████████| 51/51 [00:13<00:00,  3.72it/s]\n"
     ]
    },
    {
     "name": "stdout",
     "output_type": "stream",
     "text": [
      "Validation avg image loss: 8.634764252972782e-06\n",
      "Validation avg batch loss: 0.0038280788188179335\n",
      "Epoch: 29\n"
     ]
    },
    {
     "name": "stderr",
     "output_type": "stream",
     "text": [
      "100%|██████████████████████████████████████████████████████████████████████████████████| 51/51 [00:13<00:00,  3.70it/s]\n"
     ]
    },
    {
     "name": "stdout",
     "output_type": "stream",
     "text": [
      "Validation avg image loss: 8.693977024518233e-06\n",
      "Validation avg batch loss: 0.0038543298142030835\n",
      "Epoch: 30\n"
     ]
    },
    {
     "name": "stderr",
     "output_type": "stream",
     "text": [
      "100%|██████████████████████████████████████████████████████████████████████████████████| 51/51 [00:13<00:00,  3.71it/s]\n"
     ]
    },
    {
     "name": "stdout",
     "output_type": "stream",
     "text": [
      "Validation avg image loss: 8.807469621524776e-06\n",
      "Validation avg batch loss: 0.0039046448655426502\n",
      "Epoch: 31\n"
     ]
    },
    {
     "name": "stderr",
     "output_type": "stream",
     "text": [
      "100%|██████████████████████████████████████████████████████████████████████████████████| 51/51 [00:13<00:00,  3.72it/s]\n"
     ]
    },
    {
     "name": "stdout",
     "output_type": "stream",
     "text": [
      "Validation avg image loss: 8.881677649355024e-06\n",
      "Validation avg batch loss: 0.003937543757880728\n",
      "Epoch: 32\n"
     ]
    },
    {
     "name": "stderr",
     "output_type": "stream",
     "text": [
      "100%|██████████████████████████████████████████████████████████████████████████████████| 51/51 [00:13<00:00,  3.70it/s]\n"
     ]
    },
    {
     "name": "stdout",
     "output_type": "stream",
     "text": [
      "Validation avg image loss: 9.213730559817382e-06\n",
      "Validation avg batch loss: 0.004084753881519039\n",
      "Epoch: 33\n"
     ]
    },
    {
     "name": "stderr",
     "output_type": "stream",
     "text": [
      "100%|██████████████████████████████████████████████████████████████████████████████████| 51/51 [00:13<00:00,  3.68it/s]\n"
     ]
    },
    {
     "name": "stdout",
     "output_type": "stream",
     "text": [
      "Validation avg image loss: 9.512306450116903e-06\n",
      "Validation avg batch loss: 0.0042171225262184935\n",
      "Epoch: 34\n"
     ]
    },
    {
     "name": "stderr",
     "output_type": "stream",
     "text": [
      "100%|██████████████████████████████████████████████████████████████████████████████████| 51/51 [00:13<00:00,  3.67it/s]\n"
     ]
    },
    {
     "name": "stdout",
     "output_type": "stream",
     "text": [
      "Validation avg image loss: 8.888294503680969e-06\n",
      "Validation avg batch loss: 0.0039404772299652295\n",
      "Epoch: 35\n"
     ]
    },
    {
     "name": "stderr",
     "output_type": "stream",
     "text": [
      "100%|██████████████████████████████████████████████████████████████████████████████████| 51/51 [00:13<00:00,  3.70it/s]\n"
     ]
    },
    {
     "name": "stdout",
     "output_type": "stream",
     "text": [
      "Validation avg image loss: 8.564464541334183e-06\n",
      "Validation avg batch loss: 0.003796912613324821\n",
      "Epoch: 36\n"
     ]
    },
    {
     "name": "stderr",
     "output_type": "stream",
     "text": [
      "100%|██████████████████████████████████████████████████████████████████████████████████| 51/51 [00:13<00:00,  3.73it/s]\n"
     ]
    },
    {
     "name": "stdout",
     "output_type": "stream",
     "text": [
      "Validation avg image loss: 1.3050227601053124e-05\n",
      "Validation avg batch loss: 0.005785600903133552\n",
      "Epoch: 37\n"
     ]
    },
    {
     "name": "stderr",
     "output_type": "stream",
     "text": [
      "100%|██████████████████████████████████████████████████████████████████████████████████| 51/51 [00:13<00:00,  3.69it/s]\n"
     ]
    },
    {
     "name": "stdout",
     "output_type": "stream",
     "text": [
      "Validation avg image loss: 8.322758586110925e-06\n",
      "Validation avg batch loss: 0.0036897563065091767\n",
      "Epoch: 38\n"
     ]
    },
    {
     "name": "stderr",
     "output_type": "stream",
     "text": [
      "100%|██████████████████████████████████████████████████████████████████████████████████| 51/51 [00:13<00:00,  3.71it/s]\n"
     ]
    },
    {
     "name": "stdout",
     "output_type": "stream",
     "text": [
      "Validation avg image loss: 9.505613269354392e-06\n",
      "Validation avg batch loss: 0.004214155216080447\n",
      "Epoch: 39\n"
     ]
    },
    {
     "name": "stderr",
     "output_type": "stream",
     "text": [
      "100%|██████████████████████████████████████████████████████████████████████████████████| 51/51 [00:13<00:00,  3.68it/s]\n"
     ]
    },
    {
     "name": "stdout",
     "output_type": "stream",
     "text": [
      "Validation avg image loss: 8.793269840762355e-06\n",
      "Validation avg batch loss: 0.003898349629404644\n",
      "Epoch: 40\n"
     ]
    },
    {
     "name": "stderr",
     "output_type": "stream",
     "text": [
      "100%|██████████████████████████████████████████████████████████████████████████████████| 51/51 [00:13<00:00,  3.64it/s]\n"
     ]
    },
    {
     "name": "stdout",
     "output_type": "stream",
     "text": [
      "Validation avg image loss: 9.17942217670213e-06\n",
      "Validation avg batch loss: 0.004069543831671278\n",
      "Epoch: 41\n"
     ]
    },
    {
     "name": "stderr",
     "output_type": "stream",
     "text": [
      "100%|██████████████████████████████████████████████████████████████████████████████████| 51/51 [00:14<00:00,  3.54it/s]\n"
     ]
    },
    {
     "name": "stdout",
     "output_type": "stream",
     "text": [
      "Validation avg image loss: 1.2146590515635067e-05\n",
      "Validation avg batch loss: 0.005384988461931546\n",
      "Epoch: 42\n"
     ]
    },
    {
     "name": "stderr",
     "output_type": "stream",
     "text": [
      "100%|██████████████████████████████████████████████████████████████████████████████████| 51/51 [00:14<00:00,  3.60it/s]\n"
     ]
    },
    {
     "name": "stdout",
     "output_type": "stream",
     "text": [
      "Validation avg image loss: 1.1032474353293279e-05\n",
      "Validation avg batch loss: 0.00489106362996002\n",
      "Epoch: 43\n"
     ]
    },
    {
     "name": "stderr",
     "output_type": "stream",
     "text": [
      "100%|██████████████████████████████████████████████████████████████████████████████████| 51/51 [00:13<00:00,  3.65it/s]\n"
     ]
    },
    {
     "name": "stdout",
     "output_type": "stream",
     "text": [
      "Validation avg image loss: 1.4088378476917295e-05\n",
      "Validation avg batch loss: 0.006245847791433334\n",
      "Epoch: 44\n"
     ]
    },
    {
     "name": "stderr",
     "output_type": "stream",
     "text": [
      "100%|██████████████████████████████████████████████████████████████████████████████████| 51/51 [00:14<00:00,  3.63it/s]\n"
     ]
    },
    {
     "name": "stdout",
     "output_type": "stream",
     "text": [
      "Validation avg image loss: 9.949357140305123e-06\n",
      "Validation avg batch loss: 0.004410881665535271\n",
      "Epoch: 45\n"
     ]
    },
    {
     "name": "stderr",
     "output_type": "stream",
     "text": [
      "100%|██████████████████████████████████████████████████████████████████████████████████| 51/51 [00:14<00:00,  3.59it/s]\n"
     ]
    },
    {
     "name": "stdout",
     "output_type": "stream",
     "text": [
      "Validation avg image loss: 1.0879477836135635e-05\n",
      "Validation avg batch loss: 0.004823235174020131\n",
      "Epoch: 46\n"
     ]
    },
    {
     "name": "stderr",
     "output_type": "stream",
     "text": [
      "100%|██████████████████████████████████████████████████████████████████████████████████| 51/51 [00:14<00:00,  3.62it/s]\n"
     ]
    },
    {
     "name": "stdout",
     "output_type": "stream",
     "text": [
      "Validation avg image loss: 1.0459757711094125e-05\n",
      "Validation avg batch loss: 0.004637159251918395\n",
      "Epoch: 47\n"
     ]
    },
    {
     "name": "stderr",
     "output_type": "stream",
     "text": [
      "100%|██████████████████████████████████████████████████████████████████████████████████| 51/51 [00:14<00:00,  3.61it/s]\n"
     ]
    },
    {
     "name": "stdout",
     "output_type": "stream",
     "text": [
      "Validation avg image loss: 1.0745241341734291e-05\n",
      "Validation avg batch loss: 0.004763723661502202\n",
      "Epoch: 48\n"
     ]
    },
    {
     "name": "stderr",
     "output_type": "stream",
     "text": [
      "100%|██████████████████████████████████████████████████████████████████████████████████| 51/51 [00:13<00:00,  3.66it/s]\n"
     ]
    },
    {
     "name": "stdout",
     "output_type": "stream",
     "text": [
      "Validation avg image loss: 9.720049504386752e-06\n",
      "Validation avg batch loss: 0.004309221946944793\n",
      "Epoch: 49\n"
     ]
    },
    {
     "name": "stderr",
     "output_type": "stream",
     "text": [
      "100%|██████████████████████████████████████████████████████████████████████████████████| 51/51 [00:13<00:00,  3.71it/s]\n"
     ]
    },
    {
     "name": "stdout",
     "output_type": "stream",
     "text": [
      "Validation avg image loss: 1.2409435129983532e-05\n",
      "Validation avg batch loss: 0.005501516240959366\n",
      "Epoch: 50\n"
     ]
    },
    {
     "name": "stderr",
     "output_type": "stream",
     "text": [
      "100%|██████████████████████████████████████████████████████████████████████████████████| 51/51 [00:13<00:00,  3.68it/s]\n"
     ]
    },
    {
     "name": "stdout",
     "output_type": "stream",
     "text": [
      "Validation avg image loss: 1.0026528944674516e-05\n",
      "Validation avg batch loss: 0.004445094498805702\n",
      "Epoch: 51\n"
     ]
    },
    {
     "name": "stderr",
     "output_type": "stream",
     "text": [
      "100%|██████████████████████████████████████████████████████████████████████████████████| 51/51 [00:13<00:00,  3.68it/s]\n"
     ]
    },
    {
     "name": "stdout",
     "output_type": "stream",
     "text": [
      "Validation avg image loss: 9.119325786604916e-06\n",
      "Validation avg batch loss: 0.00404290109872818\n",
      "Epoch: 52\n"
     ]
    },
    {
     "name": "stderr",
     "output_type": "stream",
     "text": [
      "100%|██████████████████████████████████████████████████████████████████████████████████| 51/51 [00:13<00:00,  3.68it/s]\n"
     ]
    },
    {
     "name": "stdout",
     "output_type": "stream",
     "text": [
      "Validation avg image loss: 9.726743647982751e-06\n",
      "Validation avg batch loss: 0.00431218968393902\n",
      "Epoch: 53\n"
     ]
    },
    {
     "name": "stderr",
     "output_type": "stream",
     "text": [
      "100%|██████████████████████████████████████████████████████████████████████████████████| 51/51 [00:13<00:00,  3.67it/s]\n"
     ]
    },
    {
     "name": "stdout",
     "output_type": "stream",
     "text": [
      "Validation avg image loss: 8.495220270259935e-06\n",
      "Validation avg batch loss: 0.0037662143198152385\n",
      "Epoch: 54\n"
     ]
    },
    {
     "name": "stderr",
     "output_type": "stream",
     "text": [
      "100%|██████████████████████████████████████████████████████████████████████████████████| 51/51 [00:13<00:00,  3.70it/s]\n"
     ]
    },
    {
     "name": "stdout",
     "output_type": "stream",
     "text": [
      "Validation avg image loss: 9.115114352924931e-06\n",
      "Validation avg batch loss: 0.0040410340297967196\n",
      "Epoch: 55\n"
     ]
    },
    {
     "name": "stderr",
     "output_type": "stream",
     "text": [
      "100%|██████████████████████████████████████████████████████████████████████████████████| 51/51 [00:13<00:00,  3.70it/s]\n"
     ]
    },
    {
     "name": "stdout",
     "output_type": "stream",
     "text": [
      "Validation avg image loss: 9.77071695365852e-06\n",
      "Validation avg batch loss: 0.0043316845161219435\n",
      "Epoch: 56\n"
     ]
    },
    {
     "name": "stderr",
     "output_type": "stream",
     "text": [
      "100%|██████████████████████████████████████████████████████████████████████████████████| 51/51 [00:13<00:00,  3.75it/s]\n"
     ]
    },
    {
     "name": "stdout",
     "output_type": "stream",
     "text": [
      "Validation avg image loss: 8.593875690734476e-06\n",
      "Validation avg batch loss: 0.003809951556225618\n",
      "Epoch: 57\n"
     ]
    },
    {
     "name": "stderr",
     "output_type": "stream",
     "text": [
      "100%|██████████████████████████████████████████████████████████████████████████████████| 51/51 [00:13<00:00,  3.75it/s]\n"
     ]
    },
    {
     "name": "stdout",
     "output_type": "stream",
     "text": [
      "Validation avg image loss: 1.1154321981663991e-05\n",
      "Validation avg batch loss: 0.0049450827452043695\n",
      "Epoch: 58\n"
     ]
    },
    {
     "name": "stderr",
     "output_type": "stream",
     "text": [
      "100%|██████████████████████████████████████████████████████████████████████████████████| 51/51 [00:13<00:00,  3.73it/s]\n"
     ]
    },
    {
     "name": "stdout",
     "output_type": "stream",
     "text": [
      "Validation avg image loss: 9.668459047920498e-06\n",
      "Validation avg batch loss: 0.00428635017791142\n",
      "Epoch: 59\n"
     ]
    },
    {
     "name": "stderr",
     "output_type": "stream",
     "text": [
      "100%|██████████████████████████████████████████████████████████████████████████████████| 51/51 [00:14<00:00,  3.64it/s]\n"
     ]
    },
    {
     "name": "stdout",
     "output_type": "stream",
     "text": [
      "Validation avg image loss: 9.827885192055675e-06\n",
      "Validation avg batch loss: 0.004357029101811349\n",
      "Epoch: 60\n"
     ]
    },
    {
     "name": "stderr",
     "output_type": "stream",
     "text": [
      "100%|██████████████████████████████████████████████████████████████████████████████████| 51/51 [00:13<00:00,  3.68it/s]\n"
     ]
    },
    {
     "name": "stdout",
     "output_type": "stream",
     "text": [
      "Validation avg image loss: 9.420324866204782e-06\n",
      "Validation avg batch loss: 0.004176344024017453\n",
      "Epoch: 61\n"
     ]
    },
    {
     "name": "stderr",
     "output_type": "stream",
     "text": [
      "100%|██████████████████████████████████████████████████████████████████████████████████| 51/51 [00:13<00:00,  3.68it/s]\n"
     ]
    },
    {
     "name": "stdout",
     "output_type": "stream",
     "text": [
      "Validation avg image loss: 9.564272149052834e-06\n",
      "Validation avg batch loss: 0.004240160652746757\n",
      "Epoch: 62\n"
     ]
    },
    {
     "name": "stderr",
     "output_type": "stream",
     "text": [
      "100%|██████████████████████████████████████████████████████████████████████████████████| 51/51 [00:13<00:00,  3.69it/s]\n"
     ]
    },
    {
     "name": "stdout",
     "output_type": "stream",
     "text": [
      "Validation avg image loss: 8.948326996646653e-06\n",
      "Validation avg batch loss: 0.003967091635180016\n",
      "Epoch: 63\n"
     ]
    },
    {
     "name": "stderr",
     "output_type": "stream",
     "text": [
      "100%|██████████████████████████████████████████████████████████████████████████████████| 51/51 [00:13<00:00,  3.72it/s]\n"
     ]
    },
    {
     "name": "stdout",
     "output_type": "stream",
     "text": [
      "Validation avg image loss: 8.399536153931814e-06\n",
      "Validation avg batch loss: 0.003723794361576438\n",
      "Epoch: 64\n"
     ]
    },
    {
     "name": "stderr",
     "output_type": "stream",
     "text": [
      "100%|██████████████████████████████████████████████████████████████████████████████████| 51/51 [00:13<00:00,  3.72it/s]\n"
     ]
    },
    {
     "name": "stdout",
     "output_type": "stream",
     "text": [
      "Validation avg image loss: 8.096585148259213e-06\n",
      "Validation avg batch loss: 0.003589486082394918\n",
      "Epoch: 65\n"
     ]
    },
    {
     "name": "stderr",
     "output_type": "stream",
     "text": [
      "100%|██████████████████████████████████████████████████████████████████████████████████| 51/51 [00:13<00:00,  3.71it/s]\n"
     ]
    },
    {
     "name": "stdout",
     "output_type": "stream",
     "text": [
      "Validation avg image loss: 8.829381348411167e-06\n",
      "Validation avg batch loss: 0.0039143590644622845\n",
      "Epoch: 66\n"
     ]
    },
    {
     "name": "stderr",
     "output_type": "stream",
     "text": [
      "100%|██████████████████████████████████████████████████████████████████████████████████| 51/51 [00:13<00:00,  3.73it/s]\n"
     ]
    },
    {
     "name": "stdout",
     "output_type": "stream",
     "text": [
      "Validation avg image loss: 8.207431091065693e-06\n",
      "Validation avg batch loss: 0.003638627783705791\n",
      "Epoch: 67\n"
     ]
    },
    {
     "name": "stderr",
     "output_type": "stream",
     "text": [
      "100%|██████████████████████████████████████████████████████████████████████████████████| 51/51 [00:13<00:00,  3.72it/s]\n"
     ]
    },
    {
     "name": "stdout",
     "output_type": "stream",
     "text": [
      "Validation avg image loss: 9.484745866682073e-06\n",
      "Validation avg batch loss: 0.004204904000895719\n",
      "Epoch: 68\n"
     ]
    },
    {
     "name": "stderr",
     "output_type": "stream",
     "text": [
      "100%|██████████████████████████████████████████████████████████████████████████████████| 51/51 [00:13<00:00,  3.71it/s]\n"
     ]
    },
    {
     "name": "stdout",
     "output_type": "stream",
     "text": [
      "Validation avg image loss: 8.024026541725586e-06\n",
      "Validation avg batch loss: 0.003557318433498343\n",
      "Epoch: 69\n"
     ]
    },
    {
     "name": "stderr",
     "output_type": "stream",
     "text": [
      "100%|██████████████████████████████████████████████████████████████████████████████████| 51/51 [00:13<00:00,  3.72it/s]\n"
     ]
    },
    {
     "name": "stdout",
     "output_type": "stream",
     "text": [
      "Validation avg image loss: 9.053810394572137e-06\n",
      "Validation avg batch loss: 0.004013855941593647\n",
      "Epoch: 70\n"
     ]
    },
    {
     "name": "stderr",
     "output_type": "stream",
     "text": [
      "100%|██████████████████████████████████████████████████████████████████████████████████| 51/51 [00:13<00:00,  3.74it/s]\n"
     ]
    },
    {
     "name": "stdout",
     "output_type": "stream",
     "text": [
      "Validation avg image loss: 7.845732537483362e-06\n",
      "Validation avg batch loss: 0.0034782747582842908\n",
      "Epoch: 71\n"
     ]
    },
    {
     "name": "stderr",
     "output_type": "stream",
     "text": [
      "100%|██████████████████████████████████████████████████████████████████████████████████| 51/51 [00:13<00:00,  3.73it/s]\n"
     ]
    },
    {
     "name": "stdout",
     "output_type": "stream",
     "text": [
      "Validation avg image loss: 8.058242667886548e-06\n",
      "Validation avg batch loss: 0.0035724875827630362\n",
      "Epoch: 72\n"
     ]
    },
    {
     "name": "stderr",
     "output_type": "stream",
     "text": [
      "100%|██████████████████████████████████████████████████████████████████████████████████| 51/51 [00:13<00:00,  3.72it/s]\n"
     ]
    },
    {
     "name": "stdout",
     "output_type": "stream",
     "text": [
      "Validation avg image loss: 7.952880937101921e-06\n",
      "Validation avg batch loss: 0.0035257772154485187\n",
      "Epoch: 73\n"
     ]
    },
    {
     "name": "stderr",
     "output_type": "stream",
     "text": [
      "100%|██████████████████████████████████████████████████████████████████████████████████| 51/51 [00:14<00:00,  3.63it/s]\n"
     ]
    },
    {
     "name": "stdout",
     "output_type": "stream",
     "text": [
      "Validation avg image loss: 1.0547112179850054e-05\n",
      "Validation avg batch loss: 0.004675886399733524\n",
      "Epoch: 74\n"
     ]
    },
    {
     "name": "stderr",
     "output_type": "stream",
     "text": [
      "100%|██████████████████████████████████████████████████████████████████████████████████| 51/51 [00:13<00:00,  3.69it/s]\n"
     ]
    },
    {
     "name": "stdout",
     "output_type": "stream",
     "text": [
      "Validation avg image loss: 9.863357728389197e-06\n",
      "Validation avg batch loss: 0.004372755259585877\n",
      "Epoch: 75\n"
     ]
    },
    {
     "name": "stderr",
     "output_type": "stream",
     "text": [
      "100%|██████████████████████████████████████████████████████████████████████████████████| 51/51 [00:13<00:00,  3.67it/s]\n"
     ]
    },
    {
     "name": "stdout",
     "output_type": "stream",
     "text": [
      "Validation avg image loss: 9.972626812531984e-06\n",
      "Validation avg batch loss: 0.004421197886889179\n",
      "Epoch: 76\n"
     ]
    },
    {
     "name": "stderr",
     "output_type": "stream",
     "text": [
      "100%|██████████████████████████████████████████████████████████████████████████████████| 51/51 [00:13<00:00,  3.69it/s]\n"
     ]
    },
    {
     "name": "stdout",
     "output_type": "stream",
     "text": [
      "Validation avg image loss: 8.707252135010143e-06\n",
      "Validation avg batch loss: 0.0038602151131878295\n",
      "Epoch: 77\n"
     ]
    },
    {
     "name": "stderr",
     "output_type": "stream",
     "text": [
      "100%|██████████████████████████████████████████████████████████████████████████████████| 51/51 [00:14<00:00,  3.57it/s]\n"
     ]
    },
    {
     "name": "stdout",
     "output_type": "stream",
     "text": [
      "Validation avg image loss: 8.674065190318384e-06\n",
      "Validation avg batch loss: 0.0038455022343744836\n",
      "Epoch: 78\n"
     ]
    },
    {
     "name": "stderr",
     "output_type": "stream",
     "text": [
      "100%|██████████████████████████████████████████████████████████████████████████████████| 51/51 [00:13<00:00,  3.69it/s]\n"
     ]
    },
    {
     "name": "stdout",
     "output_type": "stream",
     "text": [
      "Validation avg image loss: 7.704887766727155e-06\n",
      "Validation avg batch loss: 0.003415833576582372\n",
      "Epoch: 79\n"
     ]
    },
    {
     "name": "stderr",
     "output_type": "stream",
     "text": [
      "100%|██████████████████████████████████████████████████████████████████████████████████| 51/51 [00:14<00:00,  3.63it/s]\n"
     ]
    },
    {
     "name": "stdout",
     "output_type": "stream",
     "text": [
      "Validation avg image loss: 7.942313314380502e-06\n",
      "Validation avg batch loss: 0.0035210922360420227\n",
      "Epoch: 80\n"
     ]
    },
    {
     "name": "stderr",
     "output_type": "stream",
     "text": [
      "100%|██████████████████████████████████████████████████████████████████████████████████| 51/51 [00:14<00:00,  3.53it/s]\n"
     ]
    },
    {
     "name": "stdout",
     "output_type": "stream",
     "text": [
      "Validation avg image loss: 9.5984974658971e-06\n",
      "Validation avg batch loss: 0.004255333876547714\n",
      "Epoch: 81\n"
     ]
    },
    {
     "name": "stderr",
     "output_type": "stream",
     "text": [
      "100%|██████████████████████████████████████████████████████████████████████████████████| 51/51 [00:14<00:00,  3.55it/s]\n"
     ]
    },
    {
     "name": "stdout",
     "output_type": "stream",
     "text": [
      "Validation avg image loss: 8.566360710594886e-06\n",
      "Validation avg batch loss: 0.0037977532483637333\n",
      "Epoch: 82\n"
     ]
    },
    {
     "name": "stderr",
     "output_type": "stream",
     "text": [
      "100%|██████████████████████████████████████████████████████████████████████████████████| 51/51 [00:14<00:00,  3.58it/s]\n"
     ]
    },
    {
     "name": "stdout",
     "output_type": "stream",
     "text": [
      "Validation avg image loss: 7.787053438281654e-06\n",
      "Validation avg batch loss: 0.0034522603576382003\n",
      "Epoch: 83\n"
     ]
    },
    {
     "name": "stderr",
     "output_type": "stream",
     "text": [
      "100%|██████████████████████████████████████████████████████████████████████████████████| 51/51 [00:14<00:00,  3.63it/s]\n"
     ]
    },
    {
     "name": "stdout",
     "output_type": "stream",
     "text": [
      "Validation avg image loss: 9.726731481268665e-06\n",
      "Validation avg batch loss: 0.0043121842900291085\n",
      "Epoch: 84\n"
     ]
    },
    {
     "name": "stderr",
     "output_type": "stream",
     "text": [
      "100%|██████████████████████████████████████████████████████████████████████████████████| 51/51 [00:14<00:00,  3.64it/s]\n"
     ]
    },
    {
     "name": "stdout",
     "output_type": "stream",
     "text": [
      "Validation avg image loss: 7.787291520744338e-06\n",
      "Validation avg batch loss: 0.0034523659075299897\n",
      "Epoch: 85\n"
     ]
    },
    {
     "name": "stderr",
     "output_type": "stream",
     "text": [
      "100%|██████████████████████████████████████████████████████████████████████████████████| 51/51 [00:14<00:00,  3.59it/s]\n"
     ]
    },
    {
     "name": "stdout",
     "output_type": "stream",
     "text": [
      "Validation avg image loss: 8.875878240661065e-06\n",
      "Validation avg batch loss: 0.003934972686693072\n",
      "Epoch: 86\n"
     ]
    },
    {
     "name": "stderr",
     "output_type": "stream",
     "text": [
      "100%|██████████████████████████████████████████████████████████████████████████████████| 51/51 [00:14<00:00,  3.52it/s]\n"
     ]
    },
    {
     "name": "stdout",
     "output_type": "stream",
     "text": [
      "Validation avg image loss: 8.006548137873188e-06\n",
      "Validation avg batch loss: 0.003549569674457113\n",
      "Epoch: 87\n"
     ]
    },
    {
     "name": "stderr",
     "output_type": "stream",
     "text": [
      "100%|██████████████████████████████████████████████████████████████████████████████████| 51/51 [00:14<00:00,  3.50it/s]\n"
     ]
    },
    {
     "name": "stdout",
     "output_type": "stream",
     "text": [
      "Validation avg image loss: 8.398447276786306e-06\n",
      "Validation avg batch loss: 0.0037233116260419288\n",
      "Epoch: 88\n"
     ]
    },
    {
     "name": "stderr",
     "output_type": "stream",
     "text": [
      "100%|██████████████████████████████████████████████████████████████████████████████████| 51/51 [00:13<00:00,  3.69it/s]\n"
     ]
    },
    {
     "name": "stdout",
     "output_type": "stream",
     "text": [
      "Validation avg image loss: 1.0558732092044408e-05\n",
      "Validation avg batch loss: 0.0046810378941396875\n",
      "Epoch: 89\n"
     ]
    },
    {
     "name": "stderr",
     "output_type": "stream",
     "text": [
      "100%|██████████████████████████████████████████████████████████████████████████████████| 51/51 [00:13<00:00,  3.67it/s]\n"
     ]
    },
    {
     "name": "stdout",
     "output_type": "stream",
     "text": [
      "Validation avg image loss: 8.564165800361706e-06\n",
      "Validation avg batch loss: 0.003796780171493689\n",
      "Epoch: 90\n"
     ]
    },
    {
     "name": "stderr",
     "output_type": "stream",
     "text": [
      "100%|██████████████████████████████████████████████████████████████████████████████████| 51/51 [00:13<00:00,  3.73it/s]\n"
     ]
    },
    {
     "name": "stdout",
     "output_type": "stream",
     "text": [
      "Validation avg image loss: 9.134397019205012e-06\n",
      "Validation avg batch loss: 0.004049582678514223\n",
      "Epoch: 91\n"
     ]
    },
    {
     "name": "stderr",
     "output_type": "stream",
     "text": [
      "100%|██████████████████████████████████████████████████████████████████████████████████| 51/51 [00:13<00:00,  3.70it/s]\n"
     ]
    },
    {
     "name": "stdout",
     "output_type": "stream",
     "text": [
      "Validation avg image loss: 8.046376970561599e-06\n",
      "Validation avg batch loss: 0.0035672271236156425\n",
      "Epoch: 92\n"
     ]
    },
    {
     "name": "stderr",
     "output_type": "stream",
     "text": [
      "100%|██████████████████████████████████████████████████████████████████████████████████| 51/51 [00:13<00:00,  3.71it/s]\n"
     ]
    },
    {
     "name": "stdout",
     "output_type": "stream",
     "text": [
      "Validation avg image loss: 1.0466016829013824e-05\n",
      "Validation avg batch loss: 0.004639934127529462\n",
      "Epoch: 93\n"
     ]
    },
    {
     "name": "stderr",
     "output_type": "stream",
     "text": [
      "100%|██████████████████████████████████████████████████████████████████████████████████| 51/51 [00:13<00:00,  3.67it/s]\n"
     ]
    },
    {
     "name": "stdout",
     "output_type": "stream",
     "text": [
      "Validation avg image loss: 7.80576794527303e-06\n",
      "Validation avg batch loss: 0.0034605571224043765\n",
      "Epoch: 94\n"
     ]
    },
    {
     "name": "stderr",
     "output_type": "stream",
     "text": [
      "100%|██████████████████████████████████████████████████████████████████████████████████| 51/51 [00:13<00:00,  3.71it/s]\n"
     ]
    },
    {
     "name": "stdout",
     "output_type": "stream",
     "text": [
      "Validation avg image loss: 8.087539240101674e-06\n",
      "Validation avg batch loss: 0.003585475729778409\n",
      "Epoch: 95\n"
     ]
    },
    {
     "name": "stderr",
     "output_type": "stream",
     "text": [
      "100%|██████████████████████████████████████████████████████████████████████████████████| 51/51 [00:13<00:00,  3.71it/s]\n"
     ]
    },
    {
     "name": "stdout",
     "output_type": "stream",
     "text": [
      "Validation avg image loss: 8.454301247471257e-06\n",
      "Validation avg batch loss: 0.003748073553045591\n",
      "Epoch: 96\n"
     ]
    },
    {
     "name": "stderr",
     "output_type": "stream",
     "text": [
      "100%|██████████████████████████████████████████████████████████████████████████████████| 51/51 [00:13<00:00,  3.72it/s]\n"
     ]
    },
    {
     "name": "stdout",
     "output_type": "stream",
     "text": [
      "Validation avg image loss: 8.014535629435589e-06\n",
      "Validation avg batch loss: 0.0035531107957164445\n",
      "Epoch: 97\n"
     ]
    },
    {
     "name": "stderr",
     "output_type": "stream",
     "text": [
      "100%|██████████████████████████████████████████████████████████████████████████████████| 51/51 [00:13<00:00,  3.72it/s]\n"
     ]
    },
    {
     "name": "stdout",
     "output_type": "stream",
     "text": [
      "Validation avg image loss: 8.478678178210232e-06\n",
      "Validation avg batch loss: 0.003758880659006536\n",
      "Epoch: 98\n"
     ]
    },
    {
     "name": "stderr",
     "output_type": "stream",
     "text": [
      "100%|██████████████████████████████████████████████████████████████████████████████████| 51/51 [00:13<00:00,  3.73it/s]\n"
     ]
    },
    {
     "name": "stdout",
     "output_type": "stream",
     "text": [
      "Validation avg image loss: 8.253214173579127e-06\n",
      "Validation avg batch loss: 0.003658924950286746\n",
      "Epoch: 99\n"
     ]
    },
    {
     "name": "stderr",
     "output_type": "stream",
     "text": [
      "100%|██████████████████████████████████████████████████████████████████████████████████| 51/51 [00:13<00:00,  3.70it/s]\n"
     ]
    },
    {
     "name": "stdout",
     "output_type": "stream",
     "text": [
      "Validation avg image loss: 7.979167604300761e-06\n",
      "Validation avg batch loss: 0.003537430971240004\n"
     ]
    }
   ],
   "source": [
    "# Create the Autoencoder\n",
    "encoder=Encoder().cuda()\n",
    "decoder=Decoder().cuda()\n",
    "\n",
    "# Loss functions and optimizers\n",
    "parameters=list(encoder.parameters())+list(decoder.parameters())\n",
    "loss_func=nn.MSELoss()\n",
    "optimizer=torch.optim.Adam(parameters, lr=learning_rate, weight_decay=0.0001)\n",
    "scheduler = torch.optim.lr_scheduler.StepLR(optimizer, step_size=25, gamma=0.6)\n",
    "\n",
    "# Autoencoder training\n",
    "\n",
    "# Create performance save arrays\n",
    "train_avg_image_loss_acc = []\n",
    "train_avg_batch_loss_acc = []\n",
    "valid_avg_image_loss_acc = []\n",
    "valid_avg_batch_loss_acc = []\n",
    "\n",
    "for I in range(n_epoch):\n",
    "    \n",
    "    # run epoch\n",
    "    print('Epoch: {}'.format(I))\n",
    "    train_loss = 0.0\n",
    "    num_of_images_train = 0.0\n",
    "    for image,label in tqdm(train_loader):\n",
    "        \n",
    "        # get number of images\n",
    "        num_of_images_train = num_of_images_train + image.shape[0]\n",
    "        \n",
    "        # create noise\n",
    "        noise=torch.tensor(np.random.normal(loc=0, scale=noise_std, size=image.shape)).type(torch.FloatTensor)\n",
    "        \n",
    "        # create noise image\n",
    "        image_n=torch.add(image, noise)\n",
    "        \n",
    "        # move images to GPU\n",
    "        image=Variable(image).cuda()\n",
    "        image_n=Variable(image_n).cuda()\n",
    "        \n",
    "        # clear gradients\n",
    "        optimizer.zero_grad()\n",
    "        \n",
    "        # forward pass from DAE (encoder + decoder)\n",
    "        latent_features, indices = encoder(image_n)\n",
    "        output = decoder(latent_features, indices)\n",
    "        \n",
    "        # get loss\n",
    "        loss = loss_func(output,image)\n",
    "        \n",
    "        # calculate gradients based on loss\n",
    "        loss.backward()\n",
    "        \n",
    "        # Update Weights\n",
    "        optimizer.step()\n",
    "        \n",
    "        # save training loss\n",
    "        train_loss = train_loss + loss.item()\n",
    "        \n",
    "    # update scheduler\n",
    "    scheduler.step()\n",
    "    \n",
    "    # average train image loss\n",
    "    avg_train_image_loss = train_loss/num_of_images_train\n",
    "    train_avg_image_loss_acc.append(avg_train_image_loss)\n",
    "    \n",
    "    # average train batch loss\n",
    "    avg_train_batch_loss = train_loss/len(train_loader)\n",
    "    train_avg_batch_loss_acc.append(avg_train_batch_loss)\n",
    "    \n",
    "    # calculate validation loss after epoch is completed\n",
    "    # we are adding torch.no_grad because we do not want to save gradients calculated in the validation step\n",
    "    with torch.no_grad():\n",
    "        valid_loss = 0.0\n",
    "        num_of_images_valid = 0.0\n",
    "        for image_v, labels_v in valid_loader:\n",
    "\n",
    "            # get number of images\n",
    "            num_of_images_valid = num_of_images_valid + image_v.shape[0]\n",
    "\n",
    "            # move images to GPU\n",
    "            image_v=Variable(image_v).cuda()\n",
    "\n",
    "            # forward pass from DAE (encoder + decoder)\n",
    "            latent_features_v, indices_v = encoder(image_v)\n",
    "            output_v = decoder(latent_features_v, indices_v)\n",
    "\n",
    "            # get loss\n",
    "            loss_v = loss_func(output_v, image_v)\n",
    "\n",
    "            # save valid loss\n",
    "            valid_loss = valid_loss + loss_v.item()\n",
    "        \n",
    "    # average valid image loss\n",
    "    avg_valid_image_loss = valid_loss/num_of_images_valid\n",
    "    valid_avg_image_loss_acc.append(avg_valid_image_loss)\n",
    "    print('Validation avg image loss: {}'.format(avg_valid_image_loss))\n",
    "    \n",
    "    # average valid batch loss\n",
    "    avg_valid_batch_loss = valid_loss/len(valid_loader)\n",
    "    valid_avg_batch_loss_acc.append(avg_valid_batch_loss)\n",
    "    print('Validation avg batch loss: {}'.format(avg_valid_batch_loss))"
   ]
  },
  {
   "cell_type": "code",
   "execution_count": 6,
   "id": "31f2cf05",
   "metadata": {},
   "outputs": [
    {
     "data": {
      "image/png": "[encoded data removed]",
      "text/plain": [
       "<Figure size 720x576 with 1 Axes>"
      ]
     },
     "metadata": {
      "needs_background": "light"
     },
     "output_type": "display_data"
    }
   ],
   "source": [
    "# create performance watch\n",
    "x_epoch = list(range(1,n_epoch+1))\n",
    "fig = plt.figure(figsize=(10,8))\n",
    "ax = fig.add_subplot(111)\n",
    "ax.plot(x_epoch, train_avg_image_loss_acc, '--*b', label='train loss')\n",
    "ax.plot(x_epoch, valid_avg_image_loss_acc, '--*r', label='valid loss')\n",
    "plt.yscale(\"log\")\n",
    "plt.xlabel('Epochs')\n",
    "plt.ylabel('Average Image Loss')\n",
    "plt.legend()\n",
    "plt.grid()"
   ]
  },
  {
   "cell_type": "code",
   "execution_count": 7,
   "id": "e4cd385e",
   "metadata": {},
   "outputs": [
    {
     "data": {
      "image/png": "[encoded data removed]",
      "text/plain": [
       "<Figure size 720x576 with 1 Axes>"
      ]
     },
     "metadata": {
      "needs_background": "light"
     },
     "output_type": "display_data"
    }
   ],
   "source": [
    "# create performance watch\n",
    "x_epoch = list(range(1,n_epoch+1))\n",
    "fig = plt.figure(figsize=(10,8))\n",
    "ax = fig.add_subplot(111)\n",
    "ax.plot(x_epoch, train_avg_batch_loss_acc, '--*b', label='train loss')\n",
    "ax.plot(x_epoch, valid_avg_batch_loss_acc, '--*r', label='valid loss')\n",
    "plt.yscale(\"log\")\n",
    "plt.xlabel('Epochs')\n",
    "plt.ylabel('Average Batch Loss')\n",
    "plt.legend()\n",
    "plt.grid()"
   ]
  },
  {
   "cell_type": "code",
   "execution_count": 8,
   "id": "30d4aa2b",
   "metadata": {},
   "outputs": [
    {
     "data": {
      "image/png": "[encoded data removed]",
      "text/plain": [
       "<Figure size 1080x1080 with 3 Axes>"
      ]
     },
     "metadata": {
      "needs_background": "light"
     },
     "output_type": "display_data"
    }
   ],
   "source": [
    "# Test couple of examples\n",
    "test_image_index = 1\n",
    "img=image[test_image_index].cpu()\n",
    "input_img=image_n[test_image_index].cpu()\n",
    "output_img=output[test_image_index].cpu()\n",
    "\n",
    "origin=img.data.numpy()\n",
    "inp=input_img.data.numpy()\n",
    "out=output_img.data.numpy()\n",
    "\n",
    "f, axs = plt.subplots(1,3,figsize=(15,15))\n",
    "axs[0].imshow(origin[0],cmap='gray')\n",
    "axs[0].set_title('Original Image')\n",
    "\n",
    "axs[1].imshow(inp[0],cmap='gray')\n",
    "axs[1].set_title('Original Image + Gaussian Noise')\n",
    "\n",
    "axs[2].imshow(out[0],cmap='gray')\n",
    "axs[2].set_title('Reconstructed Noisy Image')\n",
    "plt.show()"
   ]
  },
  {
   "cell_type": "code",
   "execution_count": 9,
   "id": "9ce20f25-5df3-4c1b-a52b-a2cb854db1ad",
   "metadata": {},
   "outputs": [
    {
     "data": {
      "image/png": "[encoded data removed]",
      "text/plain": [
       "<Figure size 1080x1080 with 3 Axes>"
      ]
     },
     "metadata": {
      "needs_background": "light"
     },
     "output_type": "display_data"
    }
   ],
   "source": [
    "# Test couple of examples\n",
    "test_image_index = 5\n",
    "img=image[test_image_index].cpu()\n",
    "input_img=image_n[test_image_index].cpu()\n",
    "output_img=output[test_image_index].cpu()\n",
    "\n",
    "origin=img.data.numpy()\n",
    "inp=input_img.data.numpy()\n",
    "out=output_img.data.numpy()\n",
    "\n",
    "f, axs = plt.subplots(1,3,figsize=(15,15))\n",
    "axs[0].imshow(origin[0],cmap='gray')\n",
    "axs[0].set_title('Original Image')\n",
    "\n",
    "axs[1].imshow(inp[0],cmap='gray')\n",
    "axs[1].set_title('Original Image + Gaussian Noise')\n",
    "\n",
    "axs[2].imshow(out[0],cmap='gray')\n",
    "axs[2].set_title('Reconstructed Noisy Image')\n",
    "plt.show()"
   ]
  },
  {
   "cell_type": "code",
   "execution_count": 10,
   "id": "ecbde86c-77af-4839-8246-127fb8f4bb9a",
   "metadata": {},
   "outputs": [
    {
     "name": "stderr",
     "output_type": "stream",
     "text": [
      "  0%|                                                                                        | 0/58456 [00:00<?, ?it/s]c:\\users\\basarbatu\\appdata\\local\\programs\\python\\python39\\lib\\site-packages\\torch\\_tensor.py:493: UserWarning: non-inplace resize is deprecated\n",
      "  warnings.warn(\"non-inplace resize is deprecated\")\n",
      "100%|███████████████████████████████████████████████████████████████████████████| 58456/58456 [03:20<00:00, 290.96it/s]\n"
     ]
    }
   ],
   "source": [
    "# project all available data to latent space\n",
    "\n",
    "n=len(data_all)\n",
    "latents = np.zeros((n, 33)) #32 latent features + PSNR\n",
    "\n",
    "for i in tqdm(range(n)):\n",
    "    \n",
    "    # get the sample\n",
    "    sample, _ = data_all[i]\n",
    "    sample = sample.cpu()\n",
    "    tmp = np.expand_dims(sample, axis=0)   \n",
    "    sample = torch.from_numpy(tmp)\n",
    "    sample = Variable(sample).cuda()\n",
    "    \n",
    "    # get latent features\n",
    "    latent_features, indices = encoder(sample)\n",
    "    \n",
    "    # get decoded image\n",
    "    output = decoder(latent_features, indices)\n",
    "    \n",
    "    # save features\n",
    "    z1 = latent_features.resize(1,32).cpu().detach().numpy()[0]\n",
    "    latents[i,0:32] = z1\n",
    "    \n",
    "    mse = torch.mean(torch.pow(torch.sub(sample, output), 2)).cpu().detach().numpy()\n",
    "    max_x = sample.max().cpu().detach().numpy()\n",
    "    z2 = 10*np.log10(max_x/mse) # PSNR\n",
    "    latents[i,32] = z2\n",
    "    \n",
    "# combine meta data and latent features\n",
    "latent_pd = pd.DataFrame(latents, columns=['dae_latent_feature_{:02d}'.format(x) for x in range(33)])\n",
    "latent_pd.rename(columns={'dae_latent_feature_32': 'spnr'}, inplace=True)\n",
    "video_df = pd.concat([data_meta,latent_pd], axis=1)"
   ]
  },
  {
   "cell_type": "code",
   "execution_count": 11,
   "id": "38840c0b",
   "metadata": {},
   "outputs": [],
   "source": [
    "# save output as mat to be used in matlab\n",
    "out_df = {name: col.values for name, col in video_df.items()}\n",
    "sio.savemat('./output/' + target_data_name + '/' + target_data_name + '_dae.mat', out_df)"
   ]
  },
  {
   "cell_type": "code",
   "execution_count": 12,
   "id": "0fa81b93",
   "metadata": {},
   "outputs": [
    {
     "data": {
      "text/plain": [
       "58456"
      ]
     },
     "execution_count": 12,
     "metadata": {},
     "output_type": "execute_result"
    }
   ],
   "source": [
    "len(out_df['train_valid_test'])"
   ]
  },
  {
   "cell_type": "code",
   "execution_count": 13,
   "id": "5b7a6f93",
   "metadata": {},
   "outputs": [
    {
     "data": {
      "text/plain": [
       "0.4283563706035309"
      ]
     },
     "execution_count": 13,
     "metadata": {},
     "output_type": "execute_result"
    }
   ],
   "source": [
    "sum(out_df['train_valid_test']=='train')/len(out_df['train_valid_test'])"
   ]
  },
  {
   "cell_type": "code",
   "execution_count": 14,
   "id": "ac1ee843",
   "metadata": {},
   "outputs": [
    {
     "data": {
      "text/plain": [
       "0.045504310934720134"
      ]
     },
     "execution_count": 14,
     "metadata": {},
     "output_type": "execute_result"
    }
   ],
   "source": [
    "sum(out_df['train_valid_test']=='valid')/len(out_df['train_valid_test'])"
   ]
  },
  {
   "cell_type": "code",
   "execution_count": 15,
   "id": "7dcf6f58",
   "metadata": {},
   "outputs": [
    {
     "data": {
      "text/plain": [
       "0.526139318461749"
      ]
     },
     "execution_count": 15,
     "metadata": {},
     "output_type": "execute_result"
    }
   ],
   "source": [
    "sum(out_df['train_valid_test']=='test')/len(out_df['train_valid_test'])"
   ]
  }
 ],
 "metadata": {
  "kernelspec": {
   "display_name": "Python 3 (ipykernel)",
   "language": "python",
   "name": "python3"
  },
  "language_info": {
   "codemirror_mode": {
    "name": "ipython",
    "version": 3
   },
   "file_extension": ".py",
   "mimetype": "text/x-python",
   "name": "python",
   "nbconvert_exporter": "python",
   "pygments_lexer": "ipython3",
   "version": "3.9.6"
  }
 },
 "nbformat": 4,
 "nbformat_minor": 5
}
